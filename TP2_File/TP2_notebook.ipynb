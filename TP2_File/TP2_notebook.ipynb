{
 "cells": [
  {
   "cell_type": "markdown",
   "metadata": {},
   "source": [
    "# FINA60202 : TP2"
   ]
  },
  {
   "cell_type": "code",
   "execution_count": 2,
   "metadata": {},
   "outputs": [],
   "source": [
    "import csv\n",
    "import numpy as np\n",
    "import pandas as pd\n",
    "import gurobipy as gp\n",
    "from gurobipy import GRB\n",
    "import matplotlib.pyplot as plt\n",
    "from sklearn.preprocessing import StandardScaler\n",
    "import gurobipy as gp\n",
    "from gurobipy import GRB\n",
    "from scipy.optimize import minimize\n",
    "\n",
    "import os\n",
    "import Functions as f"
   ]
  },
  {
   "cell_type": "markdown",
   "metadata": {},
   "source": [
    "## Partie A"
   ]
  },
  {
   "cell_type": "code",
   "execution_count": 6,
   "metadata": {},
   "outputs": [],
   "source": [
    "# Import data and clean\n",
    "csv_file_path_10ind = '/Users/thomasdeconinck/Downloads/Gestion-de-Portefeuille-Devoir-2/Partie A/Data /10_Industry_Portfolios.CSV' \n",
    "df_10Ind       = f.importClean_10ind(csv_file_path_10ind, desired_returns= 'Average Value Weighted Returns -- Monthly')\n",
    "\n",
    "csv_file_path_rf = '/Users/thomasdeconinck/Downloads/Gestion-de-Portefeuille-Devoir-2/Partie A/Data /F-F_Research_Data_Factors.CSV'\n",
    "df_rf         = f.importClean_rf(csv_file_path_rf)\n",
    "\n",
    "csv_file_path_number_firm = '/Users/thomasdeconinck/Downloads/Gestion-de-Portefeuille-Devoir-2/Partie A/Data /10_Industry_Portfolios.CSV'\n",
    "df_number_firm = f.importClean_10ind(csv_file_path_number_firm, desired_returns='Number of Firms in Portfolios')\n",
    "\n",
    "csv_file_path_average_firm_size = '/Users/thomasdeconinck/Downloads/Gestion-de-Portefeuille-Devoir-2/Partie A/Data /10_Industry_Portfolios.CSV'\n",
    "df_average_firm_size = f.importClean_10ind(csv_file_path_average_firm_size, desired_returns='Average Firm Size')\n",
    "\n",
    "\n",
    "# Input\n",
    "\n",
    "\n",
    "# Rolling window optimization\n",
    "\n",
    "\n",
    "# Out of sample portfolio returns calculation\n",
    "\n",
    "\n",
    "# Plot cumulative returns for out of sample portfolio returns vs benchmark\n",
    "\n",
    "\n",
    "# Sharpe Ratio calculation\n"
   ]
  }
 ],
 "metadata": {
  "kernelspec": {
   "display_name": "base",
   "language": "python",
   "name": "python3"
  },
  "language_info": {
   "codemirror_mode": {
    "name": "ipython",
    "version": 3
   },
   "file_extension": ".py",
   "mimetype": "text/x-python",
   "name": "python",
   "nbconvert_exporter": "python",
   "pygments_lexer": "ipython3",
   "version": "3.10.13"
  }
 },
 "nbformat": 4,
 "nbformat_minor": 2
}
