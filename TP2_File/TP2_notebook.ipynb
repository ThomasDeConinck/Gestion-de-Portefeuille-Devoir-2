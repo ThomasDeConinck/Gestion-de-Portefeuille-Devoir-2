{
 "cells": [
  {
   "cell_type": "markdown",
   "metadata": {},
   "source": [
    "# FINA60202 : TP2"
   ]
  },
  {
   "cell_type": "code",
   "execution_count": 1,
   "metadata": {},
   "outputs": [],
   "source": [
    "import csv\n",
    "import numpy as np\n",
    "import pandas as pd\n",
    "import gurobipy as gp\n",
    "from gurobipy import GRB\n",
    "import matplotlib.pyplot as plt\n",
    "from sklearn.preprocessing import StandardScaler\n",
    "import gurobipy as gp\n",
    "from gurobipy import GRB\n",
    "from scipy.optimize import minimize\n",
    "\n",
    "import os\n",
    "import Functions as f"
   ]
  },
  {
   "cell_type": "markdown",
   "metadata": {},
   "source": [
    "## Partie A"
   ]
  },
  {
   "cell_type": "code",
   "execution_count": 5,
   "metadata": {},
   "outputs": [
    {
     "ename": "FileNotFoundError",
     "evalue": "[Errno 2] No such file or directory: 'Partie A/Data /10_Industry_Portfolios.CSV'",
     "output_type": "error",
     "traceback": [
      "\u001b[0;31m---------------------------------------------------------------------------\u001b[0m",
      "\u001b[0;31mFileNotFoundError\u001b[0m                         Traceback (most recent call last)",
      "Cell \u001b[0;32mIn[5], line 3\u001b[0m\n\u001b[1;32m      1\u001b[0m \u001b[38;5;66;03m# Import data and clean\u001b[39;00m\n\u001b[1;32m      2\u001b[0m csv_file_path_10ind \u001b[38;5;241m=\u001b[39m \u001b[38;5;124m'\u001b[39m\u001b[38;5;124mPartie A/Data /10_Industry_Portfolios.CSV\u001b[39m\u001b[38;5;124m'\u001b[39m\n\u001b[0;32m----> 3\u001b[0m df_10Ind       \u001b[38;5;241m=\u001b[39m \u001b[43mf\u001b[49m\u001b[38;5;241;43m.\u001b[39;49m\u001b[43mimportClean_10ind\u001b[49m\u001b[43m(\u001b[49m\u001b[43mcsv_file_path_10ind\u001b[49m\u001b[43m,\u001b[49m\u001b[43m \u001b[49m\u001b[43mdesired_returns\u001b[49m\u001b[38;5;241;43m=\u001b[39;49m\u001b[43m \u001b[49m\u001b[38;5;124;43m'\u001b[39;49m\u001b[38;5;124;43mAverage Value Weighted Returns -- Monthly\u001b[39;49m\u001b[38;5;124;43m'\u001b[39;49m\u001b[43m)\u001b[49m\n\u001b[1;32m      5\u001b[0m csv_file_path_rf \u001b[38;5;241m=\u001b[39m \u001b[38;5;124m'\u001b[39m\u001b[38;5;124mPartie A/Data /F-F_Research_Data_Factors.CSV\u001b[39m\u001b[38;5;124m'\u001b[39m\n\u001b[1;32m      6\u001b[0m df_rf         \u001b[38;5;241m=\u001b[39m f\u001b[38;5;241m.\u001b[39mimportClean_rf(csv_file_path_rf)\n",
      "File \u001b[0;32m~/Documents/GitHub/Gestion de Portefeuille Devoir 2/TP2_File/Functions.py:27\u001b[0m, in \u001b[0;36mimportClean_10ind\u001b[0;34m(csv_file_path, desired_returns)\u001b[0m\n\u001b[1;32m     14\u001b[0m \u001b[38;5;250m\u001b[39m\u001b[38;5;124;03m\"\"\"\u001b[39;00m\n\u001b[1;32m     15\u001b[0m \u001b[38;5;124;03mCette fonction importe des données à partir d'un fichier CSV spécifié, effectue un nettoyage de données,\u001b[39;00m\n\u001b[1;32m     16\u001b[0m \u001b[38;5;124;03met retourne un DataFrame contenant des données filtrées sans tenir compte de la variable T (nombre d'années).\u001b[39;00m\n\u001b[0;32m   (...)\u001b[0m\n\u001b[1;32m     22\u001b[0m \u001b[38;5;124;03m    DataFrame: DataFrame contenant les données historiques filtrées pour les 10 industries.\u001b[39;00m\n\u001b[1;32m     23\u001b[0m \u001b[38;5;124;03m\"\"\"\u001b[39;00m\n\u001b[1;32m     26\u001b[0m \u001b[38;5;66;03m# Importation\u001b[39;00m\n\u001b[0;32m---> 27\u001b[0m \u001b[38;5;28;01mwith\u001b[39;00m \u001b[38;5;28mopen\u001b[39m(csv_file_path, \u001b[38;5;124m'\u001b[39m\u001b[38;5;124mr\u001b[39m\u001b[38;5;124m'\u001b[39m, newline\u001b[38;5;241m=\u001b[39m\u001b[38;5;124m'\u001b[39m\u001b[38;5;124m'\u001b[39m) \u001b[38;5;28;01mas\u001b[39;00m file:\n\u001b[1;32m     28\u001b[0m     reader \u001b[38;5;241m=\u001b[39m csv\u001b[38;5;241m.\u001b[39mreader(file)\n\u001b[1;32m     30\u001b[0m     \u001b[38;5;66;03m# Sauter les 6 premières lignes\u001b[39;00m\n",
      "\u001b[0;31mFileNotFoundError\u001b[0m: [Errno 2] No such file or directory: 'Partie A/Data /10_Industry_Portfolios.CSV'"
     ]
    }
   ],
   "source": [
    "# Import data and clean\n",
    "csv_file_path_10ind = 'Partie A/Data /10_Industry_Portfolios.CSV'\n",
    "df_10Ind       = f.importClean_10ind(csv_file_path_10ind, desired_returns= 'Average Value Weighted Returns -- Monthly')\n",
    "\n",
    "csv_file_path_rf = 'Partie A/Data /F-F_Research_Data_Factors.CSV'\n",
    "df_rf         = f.importClean_rf(csv_file_path_rf)\n",
    "\n",
    "csv_file_path_number_firm = 'Partie A/Data /10_Industry_Portfolios.CSV'\n",
    "df_number_firm = f.importClean_10ind(csv_file_path_number_firm, desired_returns='Number of Firms in Portfolios')\n",
    "\n",
    "csv_file_path_average_firm_size = 'Partie A/Data /10_Industry_Portfolios.CSV'\n",
    "df_average_firm_size = f.importClean_10ind(csv_file_path_average_firm_size, desired_returns='Average Firm Size')\n",
    "\n",
    "\n",
    "# Rolling window optimization and out of sample portfolio returns calculation\n",
    "min_variance_short_allowed = f.Out_of_sample_portfolio_returns(f.rolling_window_optimization(df_10Ind, df_rf, df_average_firm_size, df_number_firm, 60, optimization_type= 'min_variance_short_allowed'), df_10Ind)\n",
    "max_sharpe_no_short = f.Out_of_sample_portfolio_returns(f.rolling_window_optimization(df_10Ind, df_rf, df_average_firm_size, df_number_firm, 60, optimization_type= 'max_sharpe_no_short'), df_10Ind)\n",
    "max_sharpe_short_allowed = f.Out_of_sample_portfolio_returns(f.rolling_window_optimization(df_10Ind, df_rf, df_average_firm_size, df_number_firm, 60, optimization_type= 'max_sharpe_short_allowed'), df_10Ind)\n",
    "inv_varaince_weights = f.Out_of_sample_portfolio_returns(f.rolling_window_optimization(df_10Ind, df_rf, df_average_firm_size, df_number_firm, 60, optimization_type= 'inv_variance_weights'), df_10Ind)\n",
    "inv_volatility_weights = f.Out_of_sample_portfolio_returns(f.rolling_window_optimization(df_10Ind, df_rf, df_average_firm_size, df_number_firm, 60, optimization_type= 'inv_volatility_weights'), df_10Ind)\n",
    "equal_weights = f.Out_of_sample_portfolio_returns(f.rolling_window_optimization(df_10Ind, df_rf, df_average_firm_size, df_number_firm, 60, optimization_type= 'equal_weights'), df_10Ind)\n",
    "market_cap_weights = f.Out_of_sample_portfolio_returns(f.rolling_window_optimization(df_10Ind, df_rf, df_average_firm_size, df_number_firm, 60, optimization_type= 'market_cap_weights'), df_10Ind)\n",
    "\n",
    "# Plot cumulative returns for out of sample portfolio returns vs benchmark\n",
    "strategies = ['min_variance_short_allowed', 'max_sharpe_no_short', 'inv_variance_weights', 'inv_volatility_weights', 'equal_weights', 'market_cap_weights']\n",
    "f.plot_cumulative_returns(df_10Ind, strategies)\n",
    "\n",
    "# Sharpe Ratio calculation\n",
    "strategies = ['min_variance_short_allowed', 'max_sharpe_no_short', 'max_sharpe_short_allowed', 'inv_variance_weights', 'inv_volatility_weights', 'equal_weights', 'market_cap_weights']\n",
    "f.calculate_sharpe_ratios(df_10Ind, df_rf, strategies)"
   ]
  }
 ],
 "metadata": {
  "kernelspec": {
   "display_name": "base",
   "language": "python",
   "name": "python3"
  },
  "language_info": {
   "codemirror_mode": {
    "name": "ipython",
    "version": 3
   },
   "file_extension": ".py",
   "mimetype": "text/x-python",
   "name": "python",
   "nbconvert_exporter": "python",
   "pygments_lexer": "ipython3",
   "version": "3.11.1"
  }
 },
 "nbformat": 4,
 "nbformat_minor": 2
}
